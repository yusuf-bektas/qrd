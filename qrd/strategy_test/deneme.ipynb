{
 "cells": [
  {
   "cell_type": "code",
   "execution_count": 1,
   "metadata": {},
   "outputs": [
    {
     "data": {
      "text/plain": [
       "(0, 1, 2, 3)"
      ]
     },
     "execution_count": 1,
     "metadata": {},
     "output_type": "execute_result"
    }
   ],
   "source": [
    "t=(0,1,2,3)\n",
    "t"
   ]
  },
  {
   "cell_type": "code",
   "execution_count": 2,
   "metadata": {},
   "outputs": [
    {
     "data": {
      "text/plain": [
       "('asset', (0, 1, 2, 3))"
      ]
     },
     "execution_count": 2,
     "metadata": {},
     "output_type": "execute_result"
    }
   ],
   "source": [
    "\n",
    "class MyStrategy(BaseStrategy):\n",
    "#    def __init__(self, data : pd.DataFrame, assets : list[str], cash : float, inventory : dict[str, float]):\n",
    "\n",
    "    def __init__(self, data, assets):\n",
    "        super().__init__(data, assets,cash=10000,inventory={'AKBNK':0})\n",
    "    \n",
    "    def on_update(self, updates_tuple):\n",
    "        if self.get_current_ts()%2==1:\n",
    "            px, qty=self.get_book(\"AKBNK\").get_best_ask(0)\n",
    "            #self.add_order(updates_tuple[0],'B',px,qty)\n",
    "            self.market_order(updates_tuple[0],'B',qty)\n",
    "        else:\n",
    "            px, qty=self.get_book(\"AKBNK\").get_best_bid(0)\n",
    "            if px is not None:\n",
    "                #self.add_order(updates_tuple[0],'S',px,qty)\n",
    "                self.market_order(updates_tuple[0],'S',qty)\n",
    "    def on_transaction(self, order: Order, event_type: str):\n",
    "        print(order, \"event: \", event_type)\n",
    "\n",
    "\n",
    "my_strategy=MyStrategy(messages_df,['AKBNK'])\n",
    "my_strategy.run()"
   ]
  },
  {
   "cell_type": "code",
   "execution_count": null,
   "metadata": {},
   "outputs": [],
   "source": []
  }
 ],
 "metadata": {
  "kernelspec": {
   "display_name": "base",
   "language": "python",
   "name": "python3"
  },
  "language_info": {
   "codemirror_mode": {
    "name": "ipython",
    "version": 3
   },
   "file_extension": ".py",
   "mimetype": "text/x-python",
   "name": "python",
   "nbconvert_exporter": "python",
   "pygments_lexer": "ipython3",
   "version": "3.11.4"
  }
 },
 "nbformat": 4,
 "nbformat_minor": 2
}

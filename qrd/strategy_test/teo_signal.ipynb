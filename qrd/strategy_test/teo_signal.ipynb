{
 "cells": [
  {
   "cell_type": "code",
   "execution_count": 1,
   "metadata": {},
   "outputs": [
    {
     "data": {
      "text/plain": [
       "['THYAO_20230306.csv',\n",
       " 'THYAO_20230307.csv',\n",
       " 'THYAO_20230308.csv',\n",
       " 'THYAO_20230309.csv',\n",
       " 'THYAO_20230310.csv',\n",
       " 'THYAO_20230313.csv',\n",
       " 'THYAO_20230314.csv',\n",
       " 'THYAO_20230315.csv',\n",
       " 'THYAO_20230316.csv',\n",
       " 'THYAO_20230317.csv',\n",
       " 'THYAO_20230320.csv',\n",
       " 'THYAO_20230321.csv',\n",
       " 'THYAO_20230322.csv',\n",
       " 'THYAO_20230323.csv',\n",
       " 'THYAO_20230324.csv',\n",
       " 'THYAO_20230327.csv',\n",
       " 'THYAO_20230328.csv',\n",
       " 'THYAO_20230329.csv',\n",
       " 'THYAO_20230330.csv',\n",
       " 'THYAO_20230331.csv']"
      ]
     },
     "execution_count": 1,
     "metadata": {},
     "output_type": "execute_result"
    }
   ],
   "source": [
    "import pandas as pd\n",
    "import numpy as np\n",
    "\n",
    "import os\n",
    "\n",
    "path=r\"C:\\Users\\yusuf.bektas\\Desktop\\thyao\"\n",
    "os.listdir(path)"
   ]
  },
  {
   "cell_type": "code",
   "execution_count": 2,
   "metadata": {},
   "outputs": [],
   "source": [
    "from qrd.data.utils import read_spot,extract_messages\n",
    "spot=[]\n",
    "for file in os.listdir(path):\n",
    "    spot.append(read_spot(path,file))\n",
    "spot=pd.concat(spot).sort_index()"
   ]
  },
  {
   "cell_type": "code",
   "execution_count": 5,
   "metadata": {},
   "outputs": [],
   "source": [
    "msgs=extract_messages(spot.messages)\n",
    "msgs"
   ]
  },
  {
   "cell_type": "code",
   "execution_count": 4,
   "metadata": {},
   "outputs": [
    {
     "ename": "NameError",
     "evalue": "name 'msgs' is not defined",
     "output_type": "error",
     "traceback": [
      "\u001b[1;31m---------------------------------------------------------------------------\u001b[0m",
      "\u001b[1;31mNameError\u001b[0m                                 Traceback (most recent call last)",
      "Cell \u001b[1;32mIn[4], line 1\u001b[0m\n\u001b[1;32m----> 1\u001b[0m msgs[\u001b[38;5;124m'\u001b[39m\u001b[38;5;124masset\u001b[39m\u001b[38;5;124m'\u001b[39m] \u001b[38;5;241m=\u001b[39m \u001b[38;5;124m\"\u001b[39m\u001b[38;5;124mTHYAO\u001b[39m\u001b[38;5;124m\"\u001b[39m  \n\u001b[0;32m      2\u001b[0m new_column_order \u001b[38;5;241m=\u001b[39m [\u001b[38;5;124m'\u001b[39m\u001b[38;5;124masset\u001b[39m\u001b[38;5;124m'\u001b[39m] \u001b[38;5;241m+\u001b[39m [col \u001b[38;5;28;01mfor\u001b[39;00m col \u001b[38;5;129;01min\u001b[39;00m msgs\u001b[38;5;241m.\u001b[39mcolumns \u001b[38;5;28;01mif\u001b[39;00m col \u001b[38;5;241m!=\u001b[39m \u001b[38;5;124m'\u001b[39m\u001b[38;5;124masset\u001b[39m\u001b[38;5;124m'\u001b[39m]\n\u001b[0;32m      4\u001b[0m msgs \u001b[38;5;241m=\u001b[39m msgs[new_column_order]\n",
      "\u001b[1;31mNameError\u001b[0m: name 'msgs' is not defined"
     ]
    }
   ],
   "source": [
    "msgs['asset'] = \"THYAO\"  \n",
    "new_column_order = ['asset'] + [col for col in msgs.columns if col != 'asset']\n",
    "\n",
    "msgs = msgs[new_column_order]\n",
    "msgs"
   ]
  },
  {
   "cell_type": "code",
   "execution_count": 3,
   "metadata": {},
   "outputs": [
    {
     "ename": "NameError",
     "evalue": "name 'msgs' is not defined",
     "output_type": "error",
     "traceback": [
      "\u001b[1;31m---------------------------------------------------------------------------\u001b[0m",
      "\u001b[1;31mNameError\u001b[0m                                 Traceback (most recent call last)",
      "Cell \u001b[1;32mIn[3], line 16\u001b[0m\n\u001b[0;32m     13\u001b[0m     \u001b[38;5;28;01mdef\u001b[39;00m \u001b[38;5;21mon_transaction\u001b[39m(\u001b[38;5;28mself\u001b[39m, order: Order, event_type: \u001b[38;5;28mstr\u001b[39m, exec_qty: \u001b[38;5;28mint\u001b[39m \u001b[38;5;241m=\u001b[39m \u001b[38;5;28;01mNone\u001b[39;00m):\n\u001b[0;32m     14\u001b[0m         \u001b[38;5;28;01mpass\u001b[39;00m\n\u001b[1;32m---> 16\u001b[0m TrendSignal(msgs)\u001b[38;5;241m.\u001b[39mrun()\n",
      "\u001b[1;31mNameError\u001b[0m: name 'msgs' is not defined"
     ]
    }
   ],
   "source": [
    "from qrd.strategy_test.base_strategy import BaseStrategy\n",
    "from base_strategy import Order\n",
    "\n",
    "from order_book import Message\n",
    "\n",
    "class TrendSignal(BaseStrategy):\n",
    "\n",
    "    def __init__(self, data,assets=['THYAO']):\n",
    "        super().__init__(data,assets,cash=100000,inventory={'THYAO':0})\n",
    "        \n",
    "    def on_update(self, message: Message):\n",
    "        print(message)\n",
    "    def on_transaction(self, order: Order, event_type: str, exec_qty: int = None):\n",
    "        pass\n",
    "        \n",
    "TrendSignal(msgs).run()\n"
   ]
  }
 ],
 "metadata": {
  "kernelspec": {
   "display_name": "base",
   "language": "python",
   "name": "python3"
  },
  "language_info": {
   "codemirror_mode": {
    "name": "ipython",
    "version": 3
   },
   "file_extension": ".py",
   "mimetype": "text/x-python",
   "name": "python",
   "nbconvert_exporter": "python",
   "pygments_lexer": "ipython3",
   "version": "3.11.4"
  }
 },
 "nbformat": 4,
 "nbformat_minor": 2
}
